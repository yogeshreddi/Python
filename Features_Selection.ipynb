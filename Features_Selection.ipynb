{
 "cells": [
  {
   "cell_type": "markdown",
   "metadata": {},
   "source": [
    "# feature selection"
   ]
  },
  {
   "cell_type": "markdown",
   "metadata": {},
   "source": [
    "#### Comparing models with different combinations of features"
   ]
  },
  {
   "cell_type": "code",
   "execution_count": 1,
   "metadata": {
    "collapsed": true
   },
   "outputs": [],
   "source": [
    "# Our goal here is to check if all the available feature have to be included in the model or not.\n",
    "\n",
    "import numpy as np\n",
    "import pandas as pd\n",
    "from sklearn.linear_model import LinearRegression"
   ]
  },
  {
   "cell_type": "code",
   "execution_count": 3,
   "metadata": {
    "collapsed": false
   },
   "outputs": [
    {
     "data": {
      "text/html": [
       "<div>\n",
       "<table border=\"1\" class=\"dataframe\">\n",
       "  <thead>\n",
       "    <tr style=\"text-align: right;\">\n",
       "      <th></th>\n",
       "      <th>TV</th>\n",
       "      <th>Radio</th>\n",
       "      <th>Newspaper</th>\n",
       "      <th>Sales</th>\n",
       "    </tr>\n",
       "  </thead>\n",
       "  <tbody>\n",
       "    <tr>\n",
       "      <th>1</th>\n",
       "      <td>230.1</td>\n",
       "      <td>37.8</td>\n",
       "      <td>69.2</td>\n",
       "      <td>22.1</td>\n",
       "    </tr>\n",
       "    <tr>\n",
       "      <th>2</th>\n",
       "      <td>44.5</td>\n",
       "      <td>39.3</td>\n",
       "      <td>45.1</td>\n",
       "      <td>10.4</td>\n",
       "    </tr>\n",
       "    <tr>\n",
       "      <th>3</th>\n",
       "      <td>17.2</td>\n",
       "      <td>45.9</td>\n",
       "      <td>69.3</td>\n",
       "      <td>9.3</td>\n",
       "    </tr>\n",
       "    <tr>\n",
       "      <th>4</th>\n",
       "      <td>151.5</td>\n",
       "      <td>41.3</td>\n",
       "      <td>58.5</td>\n",
       "      <td>18.5</td>\n",
       "    </tr>\n",
       "    <tr>\n",
       "      <th>5</th>\n",
       "      <td>180.8</td>\n",
       "      <td>10.8</td>\n",
       "      <td>58.4</td>\n",
       "      <td>12.9</td>\n",
       "    </tr>\n",
       "  </tbody>\n",
       "</table>\n",
       "</div>"
      ],
      "text/plain": [
       "      TV  Radio  Newspaper  Sales\n",
       "1  230.1   37.8       69.2   22.1\n",
       "2   44.5   39.3       45.1   10.4\n",
       "3   17.2   45.9       69.3    9.3\n",
       "4  151.5   41.3       58.5   18.5\n",
       "5  180.8   10.8       58.4   12.9"
      ]
     },
     "execution_count": 3,
     "metadata": {},
     "output_type": "execute_result"
    }
   ],
   "source": [
    "## Loading the csv\n",
    "data = pd.read_csv('http://www-bcf.usc.edu/~gareth/ISL/Advertising.csv',index_col = 0)\n",
    "\n",
    "data.head()"
   ]
  },
  {
   "cell_type": "code",
   "execution_count": 5,
   "metadata": {
    "collapsed": false
   },
   "outputs": [
    {
     "data": {
      "text/plain": [
       "Index(['TV', 'Radio', 'Newspaper', 'Sales'], dtype='object')"
      ]
     },
     "execution_count": 5,
     "metadata": {},
     "output_type": "execute_result"
    }
   ],
   "source": [
    "data.columns"
   ]
  },
  {
   "cell_type": "markdown",
   "metadata": {},
   "source": [
    "#### Modeling with all TV, Radio, Newspaper ad budget as independent variables"
   ]
  },
  {
   "cell_type": "code",
   "execution_count": 21,
   "metadata": {
    "collapsed": false
   },
   "outputs": [
    {
     "name": "stdout",
     "output_type": "stream",
     "text": [
      "The R square value for the model with all TV,Radio,NewsPaper Valiables is 0.842163\n",
      "The MAE square value for the model with all TV,Radio,NewsPaper Valiables is 1.344366\n",
      "The MSE square value for the model with all TV,Radio,NewsPaper Valiables is 3.495950\n",
      "The RMSE square value for the model with all TV,Radio,NewsPaper Valiables is 1.869746\n"
     ]
    }
   ],
   "source": [
    "## Lets build a model with all the available features\n",
    "cols = ['TV', 'Radio', 'Newspaper']\n",
    "\n",
    "X = data[cols]\n",
    "Y = data.Sales\n",
    "\n",
    "## Spliting the data into train and test\n",
    "from sklearn.cross_validation import train_test_split\n",
    "x_train,x_test,y_train,y_test = train_test_split(X,Y,test_size = 0.4,random_state = 11)\n",
    "\n",
    "lm1 = LinearRegression()\n",
    "lm1.fit(x_train,y_train)\n",
    "\n",
    "## EValuation metrics\n",
    "from sklearn import metrics\n",
    "#### Modeling with TV and Radio ad budget as independent variables\n",
    "print('The R square value for the model with all TV,Radio,NewsPaper Valiables is %f' %metrics.r2_score(lm1.predict(x_test),y_test))\n",
    "print('The MAE square value for the model with all TV,Radio,NewsPaper Valiables is %f' %metrics.mean_absolute_error(lm1.predict(x_test),y_test))\n",
    "print('The MSE square value for the model with all TV,Radio,NewsPaper Valiables is %f' %metrics.mean_squared_error(lm1.predict(x_test),y_test))\n",
    "print('The RMSE square value for the model with all TV,Radio,NewsPaper Valiables is %f' %np.sqrt(metrics.mean_squared_error(lm1.predict(x_test),y_test)))"
   ]
  },
  {
   "cell_type": "markdown",
   "metadata": {},
   "source": [
    "#### Modeling with only TV ad budget as independent variables"
   ]
  },
  {
   "cell_type": "code",
   "execution_count": 22,
   "metadata": {
    "collapsed": false
   },
   "outputs": [
    {
     "name": "stdout",
     "output_type": "stream",
     "text": [
      "The R square value for the model with only TV Valiables is 0.219686\n",
      "The MAE square value for the model with only TV Valiables is 2.847783\n",
      "The MSE square value for the model with only TV Valiables is 12.201463\n",
      "The RMSE square value for the model with only TV Valiables is 3.493059\n"
     ]
    }
   ],
   "source": [
    "## Lets build a model with only TV independent varibale\n",
    "cols = ['TV']\n",
    "\n",
    "X = data[cols]\n",
    "Y = data.Sales\n",
    "\n",
    "## Spliting the data into train and test\n",
    "from sklearn.cross_validation import train_test_split\n",
    "x_train,x_test,y_train,y_test = train_test_split(X,Y,test_size = 0.4,random_state = 11)\n",
    "\n",
    "lm2 = LinearRegression()\n",
    "lm2.fit(x_train,y_train)\n",
    "\n",
    "## EValuation metrics\n",
    "from sklearn import metrics\n",
    "\n",
    "print('The R square value for the model with only TV Valiables is %f' %metrics.r2_score(lm2.predict(x_test),y_test))\n",
    "print('The MAE square value for the model with only TV Valiables is %f' %metrics.mean_absolute_error(lm2.predict(x_test),y_test))\n",
    "print('The MSE square value for the model with only TV Valiables is %f' %metrics.mean_squared_error(lm2.predict(x_test),y_test))\n",
    "print('The RMSE square value for the model with only TV Valiables is %f' %np.sqrt(metrics.mean_squared_error(lm2.predict(x_test),y_test)))"
   ]
  },
  {
   "cell_type": "markdown",
   "metadata": {},
   "source": [
    "#### Modeling with TV and Radio ad budget as independent variables"
   ]
  },
  {
   "cell_type": "code",
   "execution_count": 25,
   "metadata": {
    "collapsed": false
   },
   "outputs": [
    {
     "name": "stdout",
     "output_type": "stream",
     "text": [
      "The R square value for the model with only TV,Radio Valiables is 0.843891\n",
      "The MAE square value for the model with only TV,Radio Valiables is 1.337720\n",
      "The MSE square value for the model with only TV,Radio Valiables is 3.437629\n",
      "The RMSE square value for the model with only TV,Radio Valiables is 1.854084\n"
     ]
    }
   ],
   "source": [
    "## Lets build a model with only TV,Radio independent varibales\n",
    "cols = ['TV','Radio']\n",
    "\n",
    "X = data[cols]\n",
    "Y = data.Sales\n",
    "\n",
    "## Spliting the data into train and test\n",
    "from sklearn.cross_validation import train_test_split\n",
    "x_train,x_test,y_train,y_test = train_test_split(X,Y,test_size = 0.4,random_state = 11)\n",
    "\n",
    "lm3 = LinearRegression()\n",
    "lm3.fit(x_train,y_train)\n",
    "\n",
    "## EValuation metrics\n",
    "from sklearn import metrics\n",
    "\n",
    "print('The R square value for the model with only TV,Radio Valiables is %f' %metrics.r2_score(lm3.predict(x_test),y_test))\n",
    "print('The MAE square value for the model with only TV,Radio Valiables is %f' %metrics.mean_absolute_error(lm3.predict(x_test),y_test))\n",
    "print('The MSE square value for the model with only TV,Radio Valiables is %f' %metrics.mean_squared_error(lm3.predict(x_test),y_test))\n",
    "print('The RMSE square value for the model with only TV,Radio Valiables is %f' %np.sqrt(metrics.mean_squared_error(lm3.predict(x_test),y_test)))"
   ]
  },
  {
   "cell_type": "markdown",
   "metadata": {},
   "source": [
    "##### From the above results we can conclude that varaible Newspaper ad budget is not significant enough in defining the sales of the client, so we remove the Newspaper varibales fromm model and will go with only TV,Radio varibales"
   ]
  },
  {
   "cell_type": "code",
   "execution_count": 26,
   "metadata": {
    "collapsed": false
   },
   "outputs": [
    {
     "name": "stdout",
     "output_type": "stream",
     "text": [
      "Intercept    2.938889\n",
      "TV           0.045765\n",
      "Radio        0.188530\n",
      "Newspaper   -0.001037\n",
      "dtype: float64\n",
      "                            OLS Regression Results                            \n",
      "==============================================================================\n",
      "Dep. Variable:                  Sales   R-squared:                       0.897\n",
      "Model:                            OLS   Adj. R-squared:                  0.896\n",
      "Method:                 Least Squares   F-statistic:                     570.3\n",
      "Date:                Tue, 03 May 2016   Prob (F-statistic):           1.58e-96\n",
      "Time:                        14:26:38   Log-Likelihood:                -386.18\n",
      "No. Observations:                 200   AIC:                             780.4\n",
      "Df Residuals:                     196   BIC:                             793.6\n",
      "Df Model:                           3                                         \n",
      "Covariance Type:            nonrobust                                         \n",
      "==============================================================================\n",
      "                 coef    std err          t      P>|t|      [95.0% Conf. Int.]\n",
      "------------------------------------------------------------------------------\n",
      "Intercept      2.9389      0.312      9.422      0.000         2.324     3.554\n",
      "TV             0.0458      0.001     32.809      0.000         0.043     0.049\n",
      "Radio          0.1885      0.009     21.893      0.000         0.172     0.206\n",
      "Newspaper     -0.0010      0.006     -0.177      0.860        -0.013     0.011\n",
      "==============================================================================\n",
      "Omnibus:                       60.414   Durbin-Watson:                   2.084\n",
      "Prob(Omnibus):                  0.000   Jarque-Bera (JB):              151.241\n",
      "Skew:                          -1.327   Prob(JB):                     1.44e-33\n",
      "Kurtosis:                       6.332   Cond. No.                         454.\n",
      "==============================================================================\n",
      "\n",
      "Warnings:\n",
      "[1] Standard Errors assume that the covariance matrix of the errors is correctly specified.\n"
     ]
    }
   ],
   "source": [
    "#### Instead of deriving each metric we can get the summary of metrics through the statsmodel api\n",
    "\n",
    "import statsmodels.formula.api as smf\n",
    "\n",
    "\n",
    "### Lets do the modeling with all the variables\n",
    "\n",
    "lm4 = smf.ols(formula='Sales ~ TV+Radio+Newspaper', data=data).fit()\n",
    "print(lm4.params)\n",
    "print(lm4.summary())\n"
   ]
  },
  {
   "cell_type": "markdown",
   "metadata": {},
   "source": [
    "#### Looking at the summary above, the p value for Newspaper suggest that Newspaper could be insignificant. So can be removed form our model."
   ]
  },
  {
   "cell_type": "code",
   "execution_count": 27,
   "metadata": {
    "collapsed": false
   },
   "outputs": [
    {
     "name": "stdout",
     "output_type": "stream",
     "text": [
      "Intercept    2.921100\n",
      "TV           0.045755\n",
      "Radio        0.187994\n",
      "dtype: float64\n",
      "                            OLS Regression Results                            \n",
      "==============================================================================\n",
      "Dep. Variable:                  Sales   R-squared:                       0.897\n",
      "Model:                            OLS   Adj. R-squared:                  0.896\n",
      "Method:                 Least Squares   F-statistic:                     859.6\n",
      "Date:                Tue, 03 May 2016   Prob (F-statistic):           4.83e-98\n",
      "Time:                        14:27:28   Log-Likelihood:                -386.20\n",
      "No. Observations:                 200   AIC:                             778.4\n",
      "Df Residuals:                     197   BIC:                             788.3\n",
      "Df Model:                           2                                         \n",
      "Covariance Type:            nonrobust                                         \n",
      "==============================================================================\n",
      "                 coef    std err          t      P>|t|      [95.0% Conf. Int.]\n",
      "------------------------------------------------------------------------------\n",
      "Intercept      2.9211      0.294      9.919      0.000         2.340     3.502\n",
      "TV             0.0458      0.001     32.909      0.000         0.043     0.048\n",
      "Radio          0.1880      0.008     23.382      0.000         0.172     0.204\n",
      "==============================================================================\n",
      "Omnibus:                       60.022   Durbin-Watson:                   2.081\n",
      "Prob(Omnibus):                  0.000   Jarque-Bera (JB):              148.679\n",
      "Skew:                          -1.323   Prob(JB):                     5.19e-33\n",
      "Kurtosis:                       6.292   Cond. No.                         425.\n",
      "==============================================================================\n",
      "\n",
      "Warnings:\n",
      "[1] Standard Errors assume that the covariance matrix of the errors is correctly specified.\n"
     ]
    }
   ],
   "source": [
    "### Lets model without Newspaper variable\n",
    "\n",
    "lm5 = smf.ols(formula='Sales ~ TV+Radio', data=data).fit()\n",
    "print(lm5.params)\n",
    "print(lm5.summary())"
   ]
  },
  {
   "cell_type": "markdown",
   "metadata": {},
   "source": [
    "#### Fromm the above summary tables we can conclude that model without Newspaper is better, explaining more varince of the dependent varibale with less complexity. Even in terms of AIC and BIC aswel."
   ]
  },
  {
   "cell_type": "markdown",
   "metadata": {},
   "source": [
    "#### Feature selection Using Cross validation"
   ]
  },
  {
   "cell_type": "code",
   "execution_count": 37,
   "metadata": {
    "collapsed": false
   },
   "outputs": [
    {
     "name": "stdout",
     "output_type": "stream",
     "text": [
      "[-3.56038438 -3.29767522 -2.08943356 -2.82474283 -1.3027754  -1.74163618\n",
      " -8.17338214 -2.11409746 -3.04273109 -2.45281793]\n"
     ]
    }
   ],
   "source": [
    "from sklearn.cross_validation import cross_val_score\n",
    "\n",
    "cols = ['TV','Radio','Newspaper']\n",
    "\n",
    "X = data[cols]\n",
    "Y = data.Sales\n",
    "\n",
    "lm6 = LinearRegression()\n",
    "\n",
    "cv_scores = cross_val_score(lm6,X,Y,cv = 10,scoring = 'mean_squared_error')\n",
    "print(cv_scores)\n"
   ]
  },
  {
   "cell_type": "markdown",
   "metadata": {},
   "source": [
    "##### You might be wodnering why there is -ve symbol for the mean_squared_error scores, I.e. due the fact that CV scores are used to find the best model. In classification if you remember our scoring function is accuracy, I.e higher the accuracy better is the model. So to keep the cv score criteria consistent we make the cv score for loss functions -ve."
   ]
  },
  {
   "cell_type": "code",
   "execution_count": 38,
   "metadata": {
    "collapsed": false
   },
   "outputs": [
    {
     "name": "stdout",
     "output_type": "stream",
     "text": [
      "The RMSE with Kfold cv excluding Newspaper is 1.691353\n"
     ]
    }
   ],
   "source": [
    "print('The RMSE with Kfold cv excluding Newspaper is %f' %np.sqrt(-cv_scores).mean())"
   ]
  },
  {
   "cell_type": "code",
   "execution_count": 39,
   "metadata": {
    "collapsed": false
   },
   "outputs": [
    {
     "name": "stdout",
     "output_type": "stream",
     "text": [
      "The RMSE with Kfold cv excluding Newspaper is 1.679675\n"
     ]
    }
   ],
   "source": [
    "## Lets now repeat the model excluding newpaper\n",
    "\n",
    "cols = ['TV','Radio',]\n",
    "\n",
    "X = data[cols]\n",
    "Y = data.Sales\n",
    "\n",
    "lm7 = LinearRegression()\n",
    "\n",
    "cv_scores = cross_val_score(lm7,X,Y,cv = 10,scoring = 'mean_squared_error')\n",
    "print('The RMSE with Kfold cv excluding Newspaper is %f' %np.sqrt(-cv_scores).mean())"
   ]
  },
  {
   "cell_type": "code",
   "execution_count": null,
   "metadata": {
    "collapsed": true
   },
   "outputs": [],
   "source": []
  }
 ],
 "metadata": {
  "kernelspec": {
   "display_name": "Python 3",
   "language": "python",
   "name": "python3"
  },
  "language_info": {
   "codemirror_mode": {
    "name": "ipython",
    "version": 3
   },
   "file_extension": ".py",
   "mimetype": "text/x-python",
   "name": "python",
   "nbconvert_exporter": "python",
   "pygments_lexer": "ipython3",
   "version": "3.5.1"
  }
 },
 "nbformat": 4,
 "nbformat_minor": 0
}
