{
 "cells": [
  {
   "cell_type": "markdown",
   "metadata": {},
   "source": [
    "# Model Evalutaion Techniques"
   ]
  },
  {
   "cell_type": "markdown",
   "metadata": {},
   "source": [
    "## Train and test on the entire dataset"
   ]
  },
  {
   "cell_type": "markdown",
   "metadata": {},
   "source": [
    "#### Lets try Knn with K = 10 first"
   ]
  },
  {
   "cell_type": "code",
   "execution_count": 51,
   "metadata": {
    "collapsed": false
   },
   "outputs": [
    {
     "data": {
      "text/plain": [
       "array([0, 0, 0, 0, 0, 0, 0, 0, 0, 0, 0, 0, 0, 0, 0, 0, 0, 0, 0, 0, 0, 0, 0,\n",
       "       0, 0, 0, 0, 0, 0, 0, 0, 0, 0, 0, 0, 0, 0, 0, 0, 0, 0, 0, 0, 0, 0, 0,\n",
       "       0, 0, 0, 0, 1, 1, 1, 1, 1, 1, 1, 1, 1, 1, 1, 1, 1, 1, 1, 1, 1, 1, 1,\n",
       "       1, 1, 1, 1, 1, 1, 1, 1, 1, 1, 1, 1, 1, 1, 2, 1, 1, 1, 1, 1, 1, 1, 1,\n",
       "       1, 1, 1, 1, 1, 1, 1, 1, 2, 2, 2, 2, 2, 2, 1, 2, 2, 2, 2, 2, 2, 2, 2,\n",
       "       2, 2, 2, 2, 2, 2, 2, 2, 2, 2, 2, 2, 2, 2, 2, 2, 2, 2, 2, 2, 2, 2, 2,\n",
       "       1, 2, 2, 2, 2, 2, 2, 2, 2, 2, 2, 2])"
      ]
     },
     "execution_count": 51,
     "metadata": {},
     "output_type": "execute_result"
    }
   ],
   "source": [
    "from sklearn.datasets import load_iris\n",
    "from sklearn.neighbors import KNeighborsClassifier\n",
    "\n",
    "iris = load_iris()\n",
    "\n",
    "X = iris.data\n",
    "Y = iris.target\n",
    "\n",
    "knn = KNeighborsClassifier(n_neighbors=10)\n",
    "knn.fit(X,Y)\n",
    "knn.predict(X)"
   ]
  },
  {
   "cell_type": "code",
   "execution_count": 57,
   "metadata": {
    "collapsed": false
   },
   "outputs": [
    {
     "name": "stdout",
     "output_type": "stream",
     "text": [
      "Accuracy using knn is 0.980000\n"
     ]
    }
   ],
   "source": [
    "## Looking at the training accuracy, which is our model evaluation metric here \n",
    "\n",
    "from sklearn import metrics\n",
    "\n",
    "print('Accuracy using knn is %f' %metrics.accuracy_score(knn.predict(X),Y))"
   ]
  },
  {
   "cell_type": "code",
   "execution_count": 65,
   "metadata": {
    "collapsed": false
   },
   "outputs": [
    {
     "name": "stdout",
     "output_type": "stream",
     "text": [
      "Accuracy using knn with k= 1 is 1.000000\n",
      "Accuracy using knn with k= 2 is 0.980000\n",
      "Accuracy using knn with k= 3 is 0.960000\n",
      "Accuracy using knn with k= 4 is 0.960000\n",
      "Accuracy using knn with k= 5 is 0.966667\n",
      "Accuracy using knn with k= 6 is 0.973333\n",
      "Accuracy using knn with k= 7 is 0.973333\n",
      "Accuracy using knn with k= 8 is 0.980000\n",
      "Accuracy using knn with k= 9 is 0.980000\n",
      "Accuracy using knn with k= 10 is 0.980000\n",
      "Accuracy using knn with k= 11 is 0.973333\n",
      "Accuracy using knn with k= 12 is 0.980000\n",
      "Accuracy using knn with k= 13 is 0.980000\n",
      "Accuracy using knn with k= 14 is 0.980000\n",
      "Accuracy using knn with k= 15 is 0.986667\n",
      "Accuracy using knn with k= 16 is 0.986667\n",
      "Accuracy using knn with k= 17 is 0.980000\n",
      "Accuracy using knn with k= 18 is 0.973333\n",
      "Accuracy using knn with k= 19 is 0.980000\n",
      "Accuracy using knn with k= 20 is 0.980000\n",
      "Accuracy using knn with k= 21 is 0.980000\n",
      "Accuracy using knn with k= 22 is 0.980000\n",
      "Accuracy using knn with k= 23 is 0.980000\n",
      "Accuracy using knn with k= 24 is 0.973333\n",
      "Accuracy using knn with k= 25 is 0.980000\n",
      "Accuracy using knn with k= 26 is 0.973333\n",
      "Accuracy using knn with k= 27 is 0.973333\n",
      "Accuracy using knn with k= 28 is 0.966667\n",
      "Accuracy using knn with k= 29 is 0.973333\n"
     ]
    }
   ],
   "source": [
    "### let try with different k values \n",
    "\n",
    "k_range = range(1,30)\n",
    "k_score = []\n",
    "for k in k_range:\n",
    "    knn = KNeighborsClassifier(n_neighbors=k)\n",
    "    knn.fit(X,Y)\n",
    "    print('Accuracy using knn with k= %s is %f' %(k,metrics.accuracy_score(knn.predict(X),Y)))"
   ]
  },
  {
   "cell_type": "markdown",
   "metadata": {},
   "source": [
    "#### Lets try logistic and DT not"
   ]
  },
  {
   "cell_type": "code",
   "execution_count": 56,
   "metadata": {
    "collapsed": false
   },
   "outputs": [
    {
     "name": "stdout",
     "output_type": "stream",
     "text": [
      "Accuracy using DT is 1.000000\n",
      "Accuracy using logistic is 0.960000\n"
     ]
    }
   ],
   "source": [
    "### Decision Tree\n",
    "from sklearn.tree import DecisionTreeClassifier\n",
    "\n",
    "DT = DecisionTreeClassifier()\n",
    "DT.fit(X,Y)\n",
    "DT.predict(X)\n",
    "\n",
    "print('Accuracy using DT is %f' %metrics.accuracy_score(DT.predict(X),Y))\n",
    "\n",
    "### Logistic \n",
    "\n",
    "from sklearn.linear_model import LogisticRegression\n",
    "\n",
    "logreg = LogisticRegression()\n",
    "logreg.fit(X,Y)\n",
    "logreg.predict(X)\n",
    "\n",
    "print('Accuracy using logistic is %f' %metrics.accuracy_score(logreg.predict(X),Y))"
   ]
  },
  {
   "cell_type": "markdown",
   "metadata": {},
   "source": [
    "##### 1. Knn with k = 1 is one of the best models we achieved but with a low value of k our model is trying to overfit the data and making our model complex, whihc is not ideal for our prediction.\n",
    "##### 2. Out of the three models DT is perfomring the best, whihc could be by chance and we dont have an estimation of how these models are perofrming on unseen data. \n",
    "##### 3. Overfiting could be a problem (Complex models will over fit the model, example knn with k = 1)."
   ]
  },
  {
   "cell_type": "markdown",
   "metadata": {},
   "source": [
    "## Train Test Splitting / Validation Set Approach / Test Set Approach\n",
    "\n",
    "##### 1. Split the data into Training and test samples\n",
    "##### 2. Train the model using the training set and calculate the tetsing accuracy by the fitting the modle on test data.\n",
    "\n",
    "##### Advantages - K times faster that Kfold CV, Simple."
   ]
  },
  {
   "cell_type": "code",
   "execution_count": 1,
   "metadata": {
    "collapsed": true
   },
   "outputs": [],
   "source": [
    "# IMporting required data,methods,metric\n",
    "\n",
    "from sklearn.datasets import load_iris\n",
    "from sklearn.cross_validation import train_test_split\n",
    "from sklearn.neighbors import KNeighborsClassifier\n",
    "from sklearn import metrics"
   ]
  },
  {
   "cell_type": "code",
   "execution_count": 9,
   "metadata": {
    "collapsed": true
   },
   "outputs": [],
   "source": [
    "# Reading the iris Data\n",
    "\n",
    "iris = load_iris()\n",
    "\n",
    "\n",
    "X = iris.data\n",
    "Y = iris.target"
   ]
  },
  {
   "cell_type": "code",
   "execution_count": 66,
   "metadata": {
    "collapsed": false
   },
   "outputs": [],
   "source": [
    "### Splitting the data into training and testing data sample\n",
    "\n",
    "X_train,X_test,Y_train,Y_test = train_test_split(X,Y,test_size = 0.4,random_state = 5)"
   ]
  },
  {
   "cell_type": "code",
   "execution_count": 67,
   "metadata": {
    "collapsed": true
   },
   "outputs": [],
   "source": [
    "# Using KNN Classifier with K = 5\n",
    "knn = KNeighborsClassifier(n_neighbors=5)\n",
    "knn.fit(X_train,Y_train)\n",
    "y_pred = knn.predict(X_test)"
   ]
  },
  {
   "cell_type": "code",
   "execution_count": 68,
   "metadata": {
    "collapsed": false
   },
   "outputs": [
    {
     "name": "stdout",
     "output_type": "stream",
     "text": [
      "0.966666666667\n",
      "[[20  0  0]\n",
      " [ 0 21  2]\n",
      " [ 0  0 17]]\n"
     ]
    }
   ],
   "source": [
    "#Checking for Accuacy\n",
    "print(metrics.accuracy_score(y_pred,Y_test))\n",
    "print(metrics.confusion_matrix(y_pred,Y_test))"
   ]
  },
  {
   "cell_type": "code",
   "execution_count": 69,
   "metadata": {
    "collapsed": false
   },
   "outputs": [
    {
     "name": "stdout",
     "output_type": "stream",
     "text": [
      "Accuracy using knn with k= 1 is 0.966667\n",
      "Accuracy using knn with k= 2 is 0.916667\n",
      "Accuracy using knn with k= 3 is 0.983333\n",
      "Accuracy using knn with k= 4 is 0.966667\n",
      "Accuracy using knn with k= 5 is 0.966667\n",
      "Accuracy using knn with k= 6 is 0.966667\n",
      "Accuracy using knn with k= 7 is 0.983333\n",
      "Accuracy using knn with k= 8 is 0.983333\n",
      "Accuracy using knn with k= 9 is 1.000000\n",
      "Accuracy using knn with k= 10 is 0.983333\n",
      "Accuracy using knn with k= 11 is 1.000000\n",
      "Accuracy using knn with k= 12 is 0.983333\n",
      "Accuracy using knn with k= 13 is 1.000000\n",
      "Accuracy using knn with k= 14 is 0.983333\n",
      "Accuracy using knn with k= 15 is 1.000000\n",
      "Accuracy using knn with k= 16 is 0.966667\n",
      "Accuracy using knn with k= 17 is 0.983333\n",
      "Accuracy using knn with k= 18 is 0.966667\n",
      "Accuracy using knn with k= 19 is 0.966667\n",
      "Accuracy using knn with k= 20 is 0.950000\n",
      "Accuracy using knn with k= 21 is 0.966667\n",
      "Accuracy using knn with k= 22 is 0.966667\n",
      "Accuracy using knn with k= 23 is 0.966667\n",
      "Accuracy using knn with k= 24 is 0.966667\n",
      "Accuracy using knn with k= 25 is 0.966667\n",
      "Accuracy using knn with k= 26 is 0.950000\n",
      "Accuracy using knn with k= 27 is 0.950000\n",
      "Accuracy using knn with k= 28 is 0.950000\n",
      "Accuracy using knn with k= 29 is 0.950000\n"
     ]
    }
   ],
   "source": [
    "### Lets try the same for differen values of K, to find the best value of K\n",
    "for k in k_range:\n",
    "    knn = KNeighborsClassifier(n_neighbors=k)\n",
    "    knn.fit(X_train,Y_train)\n",
    "    y_pred = knn.predict(X_test)\n",
    "    print('Accuracy using knn with k= %s is %f' %(k,metrics.accuracy_score(y_pred,Y_test)))"
   ]
  },
  {
   "cell_type": "code",
   "execution_count": 35,
   "metadata": {
    "collapsed": false
   },
   "outputs": [
    {
     "name": "stdout",
     "output_type": "stream",
     "text": [
      "0.947368421053\n",
      "[[12  0  0]\n",
      " [ 0 12  0]\n",
      " [ 0  2 12]]\n",
      "0.947368421053\n",
      "[[15  0  0]\n",
      " [ 0 10  0]\n",
      " [ 0  2 11]]\n",
      "1.0\n",
      "[[16  0  0]\n",
      " [ 0 11  0]\n",
      " [ 0  0 11]]\n"
     ]
    }
   ],
   "source": [
    "#### Lets try all these by change the random state varibale \n",
    "\n",
    "X_train,X_test,Y_train,Y_test = train_test_split(X,Y,random_state = 5)\n",
    "knn = KNeighborsClassifier(n_neighbors=5)\n",
    "knn.fit(X_train,Y_train)\n",
    "y_pred = knn.predict(X_test)\n",
    "print(metrics.accuracy_score(y_pred,Y_test))\n",
    "print(metrics.confusion_matrix(y_pred,Y_test))\n",
    "\n",
    "X_train,X_test,Y_train,Y_test = train_test_split(X,Y,random_state = 3)\n",
    "knn = KNeighborsClassifier(n_neighbors=5)\n",
    "knn.fit(X_train,Y_train)\n",
    "y_pred = knn.predict(X_test)\n",
    "print(metrics.accuracy_score(y_pred,Y_test))\n",
    "print(metrics.confusion_matrix(y_pred,Y_test))\n",
    "\n",
    "\n",
    "X_train,X_test,Y_train,Y_test = train_test_split(X,Y,random_state = 2)\n",
    "knn = KNeighborsClassifier(n_neighbors=5)\n",
    "knn.fit(X_train,Y_train)\n",
    "y_pred = knn.predict(X_test)\n",
    "print(metrics.accuracy_score(y_pred,Y_test))\n",
    "print(metrics.confusion_matrix(y_pred,Y_test))"
   ]
  },
  {
   "cell_type": "markdown",
   "metadata": {},
   "source": [
    "##### If you look at the above results, we are getting different results for different random_state (I.e. for different samples, so train/test split is not always reliable as it can give reults by chance and there is very high chance of the results being inaccurate."
   ]
  },
  {
   "cell_type": "markdown",
   "metadata": {},
   "source": [
    "## KFold Cross Validation"
   ]
  },
  {
   "cell_type": "markdown",
   "metadata": {},
   "source": [
    "##### To get rid of the above problem, the solution we can think of is to try a bunch of train/test splits and avergaing the results produced.. That should be a good idea.. as the probablity of getting close to accurate results is higher in that case.. (as we are avergaing different combinations of results)\n",
    "\n",
    "##### Advantages - Accurate and efficient usage of data available.\n",
    "\n",
    "##### Reccomendation - Use K = 10 in Genral, for classification probelm use stratified sampling for creating folds"
   ]
  },
  {
   "cell_type": "markdown",
   "metadata": {},
   "source": [
    "#### Steps for Kfold CV\n",
    "##### 1. Split the Data Set into K equal Partitions\n",
    "##### 2. Use one of the fold as testing set and union of remaining sets as training sets to train your model\n",
    "##### 3. Calculate Testing accuracy\n",
    "##### 4. Repeat 2,3 using each of the remaing K-1 Folds as the testing sample and union of the other remaining sampples as training sample.\n",
    "##### 5. Calculate the Testing accuracy of each case and evaluate average of all the Testing accuracies as the estimate of over-all testing accuracy. "
   ]
  },
  {
   "cell_type": "code",
   "execution_count": 37,
   "metadata": {
    "collapsed": false
   },
   "outputs": [
    {
     "name": "stdout",
     "output_type": "stream",
     "text": [
      "[ 1.          0.93333333  1.          1.          0.86666667  0.93333333\n",
      "  0.93333333  1.          1.          1.        ]\n",
      "0.966666666667\n"
     ]
    }
   ],
   "source": [
    "# Lets try the Kfold CV on the same iris data using 5 folds, I.e. K=10\n",
    "# Our goal is to select the best tuning parameters\n",
    "\n",
    "from sklearn.cross_validation import cross_val_score\n",
    "\n",
    "\n",
    "# Lets try KNN Classifier with K = 5\n",
    "knn = KNeighborsClassifier(n_neighbors=5)\n",
    "scores = cross_val_score(knn,X,Y,cv=10,scoring = 'accuracy')\n",
    "\n",
    "print(scores)\n",
    "print(scores.mean())"
   ]
  },
  {
   "cell_type": "code",
   "execution_count": 43,
   "metadata": {
    "collapsed": false
   },
   "outputs": [
    {
     "name": "stdout",
     "output_type": "stream",
     "text": [
      "[0.95999999999999996, 0.95333333333333337, 0.96666666666666656, 0.96666666666666656, 0.96666666666666679, 0.96666666666666679, 0.96666666666666679, 0.96666666666666679, 0.97333333333333338, 0.96666666666666679, 0.96666666666666679, 0.97333333333333338, 0.98000000000000009, 0.97333333333333338, 0.97333333333333338, 0.97333333333333338, 0.97333333333333338, 0.98000000000000009, 0.97333333333333338, 0.98000000000000009, 0.96666666666666656, 0.96666666666666656, 0.97333333333333338, 0.95999999999999996, 0.96666666666666656, 0.95999999999999996, 0.96666666666666656, 0.95333333333333337, 0.95333333333333337, 0.95333333333333337, 0.94666666666666666, 0.94666666666666666, 0.94666666666666666, 0.94666666666666666, 0.94666666666666666, 0.94666666666666666, 0.94666666666666666, 0.94666666666666666, 0.95333333333333337]\n"
     ]
    }
   ],
   "source": [
    "#Searching for a optimal value of K\n",
    "\n",
    "K_Range = range(1,40)\n",
    "K_Scores = []\n",
    "for K in K_Range:\n",
    "    knn = KNeighborsClassifier(n_neighbors=K)\n",
    "    scores = cross_val_score(knn,X,Y,cv=10,scoring = 'accuracy')\n",
    "    K_Scores = K_Scores+[scores.mean()]\n",
    "    ## OR ## K_Scores.append(scores.mean())\n",
    "print(K_Scores)"
   ]
  },
  {
   "cell_type": "markdown",
   "metadata": {},
   "source": [
    "##### The above results suggest that we get optimal cv score at K = 13,18,20 we will go with K = 13 thus decreasing our model complexity\n",
    "##### as its difficult to visulaize looking at the data, lets try plotting a graph K_Rnage vs K_Scores"
   ]
  },
  {
   "cell_type": "code",
   "execution_count": 45,
   "metadata": {
    "collapsed": false
   },
   "outputs": [
    {
     "data": {
      "text/plain": [
       "[<matplotlib.lines.Line2D at 0x19973872400>]"
      ]
     },
     "execution_count": 45,
     "metadata": {},
     "output_type": "execute_result"
    },
    {
     "data": {
      "image/png": "[encoded data removed]",
      "text/plain": [
       "<matplotlib.figure.Figure at 0x199737ea0f0>"
      ]
     },
     "metadata": {},
     "output_type": "display_data"
    }
   ],
   "source": [
    "import matplotlib.pyplot as plt\n",
    "%matplotlib inline\n",
    "\n",
    "plt.plot(K_Range,K_Scores)"
   ]
  },
  {
   "cell_type": "markdown",
   "metadata": {},
   "source": [
    "### Lets now try comparing differnt models using KFold CV Logestic Reg VS KNN\n",
    "\n",
    "##### Goal is to compare the best KNN model with logestic model"
   ]
  },
  {
   "cell_type": "code",
   "execution_count": 46,
   "metadata": {
    "collapsed": false
   },
   "outputs": [
    {
     "name": "stdout",
     "output_type": "stream",
     "text": [
      "KNN CV Score is 0.980000\n"
     ]
    }
   ],
   "source": [
    "# Best KNN Model\n",
    "\n",
    "knn = KNeighborsClassifier(n_neighbors=13)\n",
    "print('KNN CV Score is %f' %cross_val_score(knn,X,Y,cv = 10,scoring='accuracy').mean())\n"
   ]
  },
  {
   "cell_type": "code",
   "execution_count": 73,
   "metadata": {
    "collapsed": false
   },
   "outputs": [
    {
     "name": "stdout",
     "output_type": "stream",
     "text": [
      "Logistic CV Score is 0.953333\n"
     ]
    }
   ],
   "source": [
    "# 10 fold Logistic model\n",
    "\n",
    "from sklearn.linear_model import LogisticRegression\n",
    "log_reg = LogisticRegression()\n",
    "print('Logistic CV Score is %f' %cross_val_score(log_reg,X,Y,cv = 10,scoring='accuracy').mean())"
   ]
  },
  {
   "cell_type": "code",
   "execution_count": 74,
   "metadata": {
    "collapsed": false
   },
   "outputs": [
    {
     "name": "stdout",
     "output_type": "stream",
     "text": [
      "Logistic CV Score for folds = 2 is 0.946667\n",
      "Logistic CV Score for folds = 3 is 0.946895\n",
      "Logistic CV Score for folds = 4 is 0.952457\n",
      "Logistic CV Score for folds = 5 is 0.960000\n",
      "Logistic CV Score for folds = 6 is 0.952160\n",
      "Logistic CV Score for folds = 7 is 0.952381\n",
      "Logistic CV Score for folds = 8 is 0.958333\n",
      "Logistic CV Score for folds = 9 is 0.951852\n"
     ]
    }
   ],
   "source": [
    "for i in range(2,10):\n",
    "    print('Logistic CV Score for folds = %s is %f' %(i,cross_val_score(log_reg,X,Y,cv = i,scoring='accuracy').mean()))"
   ]
  },
  {
   "cell_type": "markdown",
   "metadata": {},
   "source": [
    "##### IN the above results we can see that the best possible result of logestic is with K= 5 fold cv whihc is still less accurate tha best KNN model, so we can conclude that KNN is better of the two for iris data"
   ]
  },
  {
   "cell_type": "code",
   "execution_count": null,
   "metadata": {
    "collapsed": true
   },
   "outputs": [],
   "source": []
  }
 ],
 "metadata": {
  "kernelspec": {
   "display_name": "Python 3",
   "language": "python",
   "name": "python3"
  },
  "language_info": {
   "codemirror_mode": {
    "name": "ipython",
    "version": 3
   },
   "file_extension": ".py",
   "mimetype": "text/x-python",
   "name": "python",
   "nbconvert_exporter": "python",
   "pygments_lexer": "ipython3",
   "version": "3.5.1"
  }
 },
 "nbformat": 4,
 "nbformat_minor": 0
}
